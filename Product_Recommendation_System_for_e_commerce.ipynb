{
  "nbformat": 4,
  "nbformat_minor": 0,
  "metadata": {
    "colab": {
      "provenance": [],
      "authorship_tag": "ABX9TyP/de9ojL0Elr30gaKFMcNc",
      "include_colab_link": true
    },
    "kernelspec": {
      "name": "python3",
      "display_name": "Python 3"
    },
    "language_info": {
      "name": "python"
    }
  },
  "cells": [
    {
      "cell_type": "markdown",
      "metadata": {
        "id": "view-in-github",
        "colab_type": "text"
      },
      "source": [
        "<a href=\"https://colab.research.google.com/github/anastasiia3006/product-recommendation/blob/main/Product_Recommendation_System_for_e_commerce.ipynb\" target=\"_parent\"><img src=\"https://colab.research.google.com/assets/colab-badge.svg\" alt=\"Open In Colab\"/></a>"
      ]
    },
    {
      "cell_type": "code",
      "source": [
        "!pip install flask-ngrok flask\n",
        "!pip install pyngrok\n",
        "\n",
        "import pandas as pd\n",
        "import matplotlib.pyplot as plt\n",
        "import numpy as np\n",
        "from flask import Flask, request, jsonify\n",
        "from flask_ngrok import run_with_ngrok"
      ],
      "metadata": {
        "colab": {
          "base_uri": "https://localhost:8080/"
        },
        "id": "6wy2GHGlyLkw",
        "outputId": "68d1167f-d482-4909-efba-272097a9f287"
      },
      "execution_count": null,
      "outputs": [
        {
          "output_type": "stream",
          "name": "stdout",
          "text": [
            "Requirement already satisfied: flask-ngrok in /usr/local/lib/python3.11/dist-packages (0.0.25)\n",
            "Requirement already satisfied: flask in /usr/local/lib/python3.11/dist-packages (3.1.0)\n",
            "Requirement already satisfied: requests in /usr/local/lib/python3.11/dist-packages (from flask-ngrok) (2.32.3)\n",
            "Requirement already satisfied: Werkzeug>=3.1 in /usr/local/lib/python3.11/dist-packages (from flask) (3.1.3)\n",
            "Requirement already satisfied: Jinja2>=3.1.2 in /usr/local/lib/python3.11/dist-packages (from flask) (3.1.5)\n",
            "Requirement already satisfied: itsdangerous>=2.2 in /usr/local/lib/python3.11/dist-packages (from flask) (2.2.0)\n",
            "Requirement already satisfied: click>=8.1.3 in /usr/local/lib/python3.11/dist-packages (from flask) (8.1.8)\n",
            "Requirement already satisfied: blinker>=1.9 in /usr/local/lib/python3.11/dist-packages (from flask) (1.9.0)\n",
            "Requirement already satisfied: MarkupSafe>=2.0 in /usr/local/lib/python3.11/dist-packages (from Jinja2>=3.1.2->flask) (3.0.2)\n",
            "Requirement already satisfied: charset-normalizer<4,>=2 in /usr/local/lib/python3.11/dist-packages (from requests->flask-ngrok) (3.4.1)\n",
            "Requirement already satisfied: idna<4,>=2.5 in /usr/local/lib/python3.11/dist-packages (from requests->flask-ngrok) (3.10)\n",
            "Requirement already satisfied: urllib3<3,>=1.21.1 in /usr/local/lib/python3.11/dist-packages (from requests->flask-ngrok) (2.3.0)\n",
            "Requirement already satisfied: certifi>=2017.4.17 in /usr/local/lib/python3.11/dist-packages (from requests->flask-ngrok) (2024.12.14)\n",
            "Collecting pyngrok\n",
            "  Downloading pyngrok-7.2.3-py3-none-any.whl.metadata (8.7 kB)\n",
            "Requirement already satisfied: flask in /usr/local/lib/python3.11/dist-packages (3.1.0)\n",
            "Requirement already satisfied: PyYAML>=5.1 in /usr/local/lib/python3.11/dist-packages (from pyngrok) (6.0.2)\n",
            "Requirement already satisfied: Werkzeug>=3.1 in /usr/local/lib/python3.11/dist-packages (from flask) (3.1.3)\n",
            "Requirement already satisfied: Jinja2>=3.1.2 in /usr/local/lib/python3.11/dist-packages (from flask) (3.1.5)\n",
            "Requirement already satisfied: itsdangerous>=2.2 in /usr/local/lib/python3.11/dist-packages (from flask) (2.2.0)\n",
            "Requirement already satisfied: click>=8.1.3 in /usr/local/lib/python3.11/dist-packages (from flask) (8.1.8)\n",
            "Requirement already satisfied: blinker>=1.9 in /usr/local/lib/python3.11/dist-packages (from flask) (1.9.0)\n",
            "Requirement already satisfied: MarkupSafe>=2.0 in /usr/local/lib/python3.11/dist-packages (from Jinja2>=3.1.2->flask) (3.0.2)\n",
            "Downloading pyngrok-7.2.3-py3-none-any.whl (23 kB)\n",
            "Installing collected packages: pyngrok\n",
            "Successfully installed pyngrok-7.2.3\n"
          ]
        }
      ]
    },
    {
      "cell_type": "code",
      "source": [
        "df_list = pd.read_csv('ecommerce_data/List of Orders.csv')"
      ],
      "metadata": {
        "id": "pyUifEM7yUTC"
      },
      "execution_count": null,
      "outputs": []
    },
    {
      "cell_type": "code",
      "source": [
        "print(df_list.head())"
      ],
      "metadata": {
        "colab": {
          "base_uri": "https://localhost:8080/"
        },
        "id": "tM9zZOjl1gfx",
        "outputId": "87e75844-78c3-458a-8768-a08141bb4e70"
      },
      "execution_count": null,
      "outputs": [
        {
          "output_type": "stream",
          "name": "stdout",
          "text": [
            "  Order ID  Order Date CustomerName           State       City\n",
            "0  B-25601  01-04-2018       Bharat         Gujarat  Ahmedabad\n",
            "1  B-25602  01-04-2018        Pearl     Maharashtra       Pune\n",
            "2  B-25603  03-04-2018        Jahan  Madhya Pradesh     Bhopal\n",
            "3  B-25604  03-04-2018       Divsha       Rajasthan     Jaipur\n",
            "4  B-25605  05-04-2018      Kasheen     West Bengal    Kolkata\n"
          ]
        }
      ]
    },
    {
      "cell_type": "code",
      "source": [
        "df_order = pd.read_csv('ecommerce_data/Order Details.csv')\n",
        "print(df_order.head())"
      ],
      "metadata": {
        "colab": {
          "base_uri": "https://localhost:8080/"
        },
        "id": "b-2yaYTH2Yec",
        "outputId": "1508e289-0348-4a06-a187-7ffc53b48453"
      },
      "execution_count": null,
      "outputs": [
        {
          "output_type": "stream",
          "name": "stdout",
          "text": [
            "  Order ID  Amount  Profit  Quantity     Category      Sub-Category\n",
            "0  B-25601  1275.0 -1148.0         7    Furniture         Bookcases\n",
            "1  B-25601    66.0   -12.0         5     Clothing             Stole\n",
            "2  B-25601     8.0    -2.0         3     Clothing       Hankerchief\n",
            "3  B-25601    80.0   -56.0         4  Electronics  Electronic Games\n",
            "4  B-25602   168.0  -111.0         2  Electronics            Phones\n"
          ]
        }
      ]
    },
    {
      "cell_type": "code",
      "source": [
        "df_sales = pd.read_csv('ecommerce_data/Sales target.csv')\n",
        "print(df_sales.head())"
      ],
      "metadata": {
        "colab": {
          "base_uri": "https://localhost:8080/"
        },
        "id": "ZwrS5pf82xuI",
        "outputId": "bda443dc-b158-420e-a443-231cb73f5702"
      },
      "execution_count": null,
      "outputs": [
        {
          "output_type": "stream",
          "name": "stdout",
          "text": [
            "  Month of Order Date   Category   Target\n",
            "0              Apr-18  Furniture  10400.0\n",
            "1              May-18  Furniture  10500.0\n",
            "2              Jun-18  Furniture  10600.0\n",
            "3              Jul-18  Furniture  10800.0\n",
            "4              Aug-18  Furniture  10900.0\n"
          ]
        }
      ]
    },
    {
      "cell_type": "code",
      "source": [
        "#join 2 tables df_list + df_order\n",
        "merged_dfs = pd.merge(df_list, df_order, on = 'Order ID')\n",
        "print(merged_dfs.head())"
      ],
      "metadata": {
        "colab": {
          "base_uri": "https://localhost:8080/"
        },
        "id": "6ff9fhoI3BtN",
        "outputId": "26ea0817-3624-4b05-ed2a-59c419d95eb1"
      },
      "execution_count": null,
      "outputs": [
        {
          "output_type": "stream",
          "name": "stdout",
          "text": [
            "  Order ID  Order Date CustomerName        State       City  Amount  Profit  \\\n",
            "0  B-25601  01-04-2018       Bharat      Gujarat  Ahmedabad  1275.0 -1148.0   \n",
            "1  B-25601  01-04-2018       Bharat      Gujarat  Ahmedabad    66.0   -12.0   \n",
            "2  B-25601  01-04-2018       Bharat      Gujarat  Ahmedabad     8.0    -2.0   \n",
            "3  B-25601  01-04-2018       Bharat      Gujarat  Ahmedabad    80.0   -56.0   \n",
            "4  B-25602  01-04-2018        Pearl  Maharashtra       Pune   168.0  -111.0   \n",
            "\n",
            "   Quantity     Category      Sub-Category  \n",
            "0         7    Furniture         Bookcases  \n",
            "1         5     Clothing             Stole  \n",
            "2         3     Clothing       Hankerchief  \n",
            "3         4  Electronics  Electronic Games  \n",
            "4         2  Electronics            Phones  \n"
          ]
        }
      ]
    },
    {
      "cell_type": "code",
      "source": [
        "print(merged_dfs.info())\n",
        "print('***************************************')\n",
        "print(merged_dfs.describe())\n",
        "print('***************************************')\n",
        "print(merged_dfs.isnull().sum())\n",
        "print('***************************************')\n",
        "print(merged_dfs.duplicated())\n"
      ],
      "metadata": {
        "colab": {
          "base_uri": "https://localhost:8080/"
        },
        "collapsed": true,
        "id": "6LfKrkEu5rKE",
        "outputId": "a7fc1d29-d8e9-496a-868d-63b752f0725e"
      },
      "execution_count": null,
      "outputs": [
        {
          "output_type": "stream",
          "name": "stdout",
          "text": [
            "<class 'pandas.core.frame.DataFrame'>\n",
            "RangeIndex: 1500 entries, 0 to 1499\n",
            "Data columns (total 10 columns):\n",
            " #   Column        Non-Null Count  Dtype  \n",
            "---  ------        --------------  -----  \n",
            " 0   Order ID      1500 non-null   object \n",
            " 1   Order Date    1500 non-null   object \n",
            " 2   CustomerName  1500 non-null   object \n",
            " 3   State         1500 non-null   object \n",
            " 4   City          1500 non-null   object \n",
            " 5   Amount        1500 non-null   float64\n",
            " 6   Profit        1500 non-null   float64\n",
            " 7   Quantity      1500 non-null   int64  \n",
            " 8   Category      1500 non-null   object \n",
            " 9   Sub-Category  1500 non-null   object \n",
            "dtypes: float64(2), int64(1), object(7)\n",
            "memory usage: 117.3+ KB\n",
            "None\n",
            "***************************************\n",
            "            Amount       Profit     Quantity\n",
            "count  1500.000000  1500.000000  1500.000000\n",
            "mean    287.668000    15.970000     3.743333\n",
            "std     461.050488   169.140565     2.184942\n",
            "min       4.000000 -1981.000000     1.000000\n",
            "25%      45.000000    -9.250000     2.000000\n",
            "50%     118.000000     9.000000     3.000000\n",
            "75%     322.000000    38.000000     5.000000\n",
            "max    5729.000000  1698.000000    14.000000\n",
            "***************************************\n",
            "Order ID        0\n",
            "Order Date      0\n",
            "CustomerName    0\n",
            "State           0\n",
            "City            0\n",
            "Amount          0\n",
            "Profit          0\n",
            "Quantity        0\n",
            "Category        0\n",
            "Sub-Category    0\n",
            "dtype: int64\n",
            "***************************************\n",
            "0       False\n",
            "1       False\n",
            "2       False\n",
            "3       False\n",
            "4       False\n",
            "        ...  \n",
            "1495    False\n",
            "1496    False\n",
            "1497    False\n",
            "1498    False\n",
            "1499    False\n",
            "Length: 1500, dtype: bool\n"
          ]
        }
      ]
    },
    {
      "cell_type": "code",
      "source": [
        "#Analysis of the most popular products\n",
        "most_popular_sub_cat_product = merged_dfs.groupby('Sub-Category')['Quantity'].sum().reset_index()\n",
        "most_popular_sub_cat_product = most_popular_sub_cat_product.sort_values(by='Quantity', ascending=False).head(5)\n",
        "most_popular_sub_cat_product = most_popular_sub_cat_product.reset_index(drop=True)\n",
        "most_popular_sub_cat_product.index = most_popular_sub_cat_product.index+1\n",
        "print(most_popular_sub_cat_product)"
      ],
      "metadata": {
        "colab": {
          "base_uri": "https://localhost:8080/"
        },
        "collapsed": true,
        "id": "0UuTZgBr7auY",
        "outputId": "be2e6e0a-13fa-43ec-94a0-a9ee6cd208e3"
      },
      "execution_count": null,
      "outputs": [
        {
          "output_type": "stream",
          "name": "stdout",
          "text": [
            "  Sub-Category  Quantity\n",
            "1        Saree       782\n",
            "2  Hankerchief       754\n",
            "3        Stole       671\n",
            "4  Furnishings       310\n",
            "5      T-shirt       305\n"
          ]
        }
      ]
    },
    {
      "cell_type": "code",
      "source": [
        "#Summary of purchase by customers and subcategories\n",
        "customer_subcategory_sales = merged_dfs.groupby(['CustomerName', 'Sub-Category'])['Quantity'].sum().reset_index()\n",
        "\n",
        "# Find the top 5 customers by total purchases\n",
        "top_customers = (\n",
        "    customer_subcategory_sales.groupby('CustomerName')['Quantity']\n",
        "    .sum()\n",
        "    .sort_values(ascending=False)\n",
        "    .head(5)\n",
        "    .index\n",
        ")\n",
        "\n",
        "# Filter data for top 5 customers\n",
        "filtered_data = customer_subcategory_sales[\n",
        "    customer_subcategory_sales['CustomerName'].isin(top_customers)\n",
        "]\n",
        "\n",
        "# Creating a summary table to build a Stacked Bar Plot\n",
        "pivot_data = filtered_data.pivot_table(\n",
        "    index='CustomerName',\n",
        "    columns='Sub-Category',\n",
        "    values='Quantity',\n",
        "    aggfunc='sum',\n",
        "    fill_value=0  # Filling missed values ​​by zeros\n",
        ")"
      ],
      "metadata": {
        "collapsed": true,
        "id": "CL57XeYv98GH"
      },
      "execution_count": null,
      "outputs": []
    },
    {
      "cell_type": "code",
      "source": [
        "#visualisation for most popular product\n",
        "plt.bar(most_popular_sub_cat_product['Sub-Category'],most_popular_sub_cat_product['Quantity'])\n",
        "plt.xlabel('Products')\n",
        "plt.ylabel('Quantity')\n",
        "plt.title('Most popular products')\n",
        "plt.xticks(rotation=0, ha = 'right')\n",
        "plt.tight_layout()\n",
        "plt.show()"
      ],
      "metadata": {
        "colab": {
          "base_uri": "https://localhost:8080/",
          "height": 487
        },
        "collapsed": true,
        "id": "osj8F3RL-pnC",
        "outputId": "ee6c8583-20eb-4442-e6fb-9a5af8e8732a"
      },
      "execution_count": null,
      "outputs": [
        {
          "output_type": "display_data",
          "data": {
            "text/plain": [
              "<Figure size 640x480 with 1 Axes>"
            ],
            "image/png": "[encoded data removed]"
          },
          "metadata": {}
        }
      ]
    },
    {
      "cell_type": "code",
      "source": [
        "#visualisation for summary of purchase by castomers and subcategories\n",
        "# Construction stacked bar plot\n",
        "pivot_data.plot(\n",
        "    kind='bar',\n",
        "    stacked=True,\n",
        "    figsize=(12, 6),\n",
        "    title=\"Top-5 Customers' Purchases by Sub-Categories\"\n",
        ")\n",
        "\n",
        "# Settings of axes and legends\n",
        "plt.xlabel('Customers')\n",
        "plt.ylabel('Quantity')\n",
        "plt.legend(title='Sub-Categories', bbox_to_anchor=(1.05, 1), loc='upper left')\n",
        "plt.tight_layout()  # Provides correct arrangement of graphics elements\n",
        "plt.grid(axis='y', linestyle='--', alpha=0.7)  # Add horizontal lines for convenience\n",
        "plt.xticks(rotation=0)\n",
        "plt.show()\n"
      ],
      "metadata": {
        "colab": {
          "base_uri": "https://localhost:8080/",
          "height": 557
        },
        "collapsed": true,
        "id": "EvXM-NlxG9zA",
        "outputId": "c5eb913a-a373-460a-e669-e5a66a536990"
      },
      "execution_count": null,
      "outputs": [
        {
          "output_type": "display_data",
          "data": {
            "text/plain": [
              "<Figure size 1200x600 with 1 Axes>"
            ],
            "image/png": "[encoded data removed]"
          },
          "metadata": {}
        }
      ]
    },
    {
      "cell_type": "code",
      "source": [
        "#Collaborative Filtering"
      ],
      "metadata": {
        "id": "MsBaysmPKECO"
      },
      "execution_count": null,
      "outputs": []
    },
    {
      "cell_type": "code",
      "source": [
        "from scipy.sparse import csr_matrix\n",
        "from sklearn.neighbors import NearestNeighbors"
      ],
      "metadata": {
        "id": "1znXFcl_WWK_"
      },
      "execution_count": null,
      "outputs": []
    },
    {
      "cell_type": "code",
      "source": [
        "grouped_data = merged_dfs.groupby(['CustomerName', 'Sub-Category'])['Quantity'].sum().reset_index()"
      ],
      "metadata": {
        "id": "8oXTB20KY2Y2"
      },
      "execution_count": null,
      "outputs": []
    },
    {
      "cell_type": "code",
      "source": [
        "customer_matrix = grouped_data.pivot(index = 'CustomerName', columns='Sub-Category',values='Quantity').fillna(0)\n",
        "customer_matrix_space = csr_matrix(customer_matrix)"
      ],
      "metadata": {
        "id": "8B6zaHUvW6vP"
      },
      "execution_count": null,
      "outputs": []
    },
    {
      "cell_type": "code",
      "source": [
        "print(grouped_data.head())\n",
        "print(customer_matrix.head())"
      ],
      "metadata": {
        "colab": {
          "base_uri": "https://localhost:8080/"
        },
        "collapsed": true,
        "id": "aJOOmfLdYQzm",
        "outputId": "5804d318-5eec-41e9-ae6c-238e03a8068a"
      },
      "execution_count": null,
      "outputs": [
        {
          "output_type": "stream",
          "name": "stdout",
          "text": [
            "  CustomerName Sub-Category  Quantity\n",
            "0    Aakanksha       Chairs         1\n",
            "1    Aakanksha        Saree         7\n",
            "2      Aarushi  Accessories         3\n",
            "3      Aarushi    Bookcases         5\n",
            "4      Aarushi       Chairs         3\n",
            "Sub-Category  Accessories  Bookcases  Chairs  Electronic Games  Furnishings  \\\n",
            "CustomerName                                                                  \n",
            "Aakanksha             0.0        0.0     1.0               0.0          0.0   \n",
            "Aarushi               3.0        5.0     3.0               0.0          3.0   \n",
            "Aashna                6.0        0.0     0.0               0.0          0.0   \n",
            "Aastha                2.0        0.0     0.0               0.0          0.0   \n",
            "Aayush                0.0        0.0     0.0               3.0          0.0   \n",
            "\n",
            "Sub-Category  Hankerchief  Kurti  Leggings  Phones  Printers  Saree  Shirt  \\\n",
            "CustomerName                                                                 \n",
            "Aakanksha             0.0    0.0       0.0     0.0       0.0    7.0    0.0   \n",
            "Aarushi              12.0    0.0       0.0     0.0       6.0    8.0    0.0   \n",
            "Aashna                0.0    3.0       0.0     0.0       3.0    3.0    7.0   \n",
            "Aastha                6.0    0.0       0.0    10.0       0.0    2.0    0.0   \n",
            "Aayush               10.0    0.0       0.0     0.0       0.0    3.0    0.0   \n",
            "\n",
            "Sub-Category  Skirt  Stole  T-shirt  Tables  Trousers  \n",
            "CustomerName                                           \n",
            "Aakanksha       0.0    0.0      0.0     0.0       0.0  \n",
            "Aarushi         0.0    4.0      0.0     5.0       0.0  \n",
            "Aashna          0.0   10.0      0.0     0.0       0.0  \n",
            "Aastha          8.0    0.0      0.0     0.0       0.0  \n",
            "Aayush          0.0    2.0      0.0     0.0       0.0  \n"
          ]
        }
      ]
    },
    {
      "cell_type": "code",
      "source": [
        "# Build the Collaborative Filtering Model\n",
        "\n",
        "model_knn = NearestNeighbors(metric='cosine', algorithm='brute', n_neighbors=10, n_jobs=-1)\n",
        "model_knn.fit(customer_matrix_space)"
      ],
      "metadata": {
        "colab": {
          "base_uri": "https://localhost:8080/",
          "height": 68
        },
        "id": "X3xYSzakZN6c",
        "outputId": "0678d83d-772d-4c5d-c038-e8e0c81307bd"
      },
      "execution_count": null,
      "outputs": [
        {
          "output_type": "execute_result",
          "data": {
            "text/plain": [
              "NearestNeighbors(algorithm='brute', metric='cosine', n_jobs=-1, n_neighbors=10)"
            ],
            "text/html": [
              "<style>#sk-container-id-1 {\n",
              "  /* Definition of color scheme common for light and dark mode */\n",
              "  --sklearn-color-text: #000;\n",
              "  --sklearn-color-text-muted: #666;\n",
              "  --sklearn-color-line: gray;\n",
              "  /* Definition of color scheme for unfitted estimators */\n",
              "  --sklearn-color-unfitted-level-0: #fff5e6;\n",
              "  --sklearn-color-unfitted-level-1: #f6e4d2;\n",
              "  --sklearn-color-unfitted-level-2: #ffe0b3;\n",
              "  --sklearn-color-unfitted-level-3: chocolate;\n",
              "  /* Definition of color scheme for fitted estimators */\n",
              "  --sklearn-color-fitted-level-0: #f0f8ff;\n",
              "  --sklearn-color-fitted-level-1: #d4ebff;\n",
              "  --sklearn-color-fitted-level-2: #b3dbfd;\n",
              "  --sklearn-color-fitted-level-3: cornflowerblue;\n",
              "\n",
              "  /* Specific color for light theme */\n",
              "  --sklearn-color-text-on-default-background: var(--sg-text-color, var(--theme-code-foreground, var(--jp-content-font-color1, black)));\n",
              "  --sklearn-color-background: var(--sg-background-color, var(--theme-background, var(--jp-layout-color0, white)));\n",
              "  --sklearn-color-border-box: var(--sg-text-color, var(--theme-code-foreground, var(--jp-content-font-color1, black)));\n",
              "  --sklearn-color-icon: #696969;\n",
              "\n",
              "  @media (prefers-color-scheme: dark) {\n",
              "    /* Redefinition of color scheme for dark theme */\n",
              "    --sklearn-color-text-on-default-background: var(--sg-text-color, var(--theme-code-foreground, var(--jp-content-font-color1, white)));\n",
              "    --sklearn-color-background: var(--sg-background-color, var(--theme-background, var(--jp-layout-color0, #111)));\n",
              "    --sklearn-color-border-box: var(--sg-text-color, var(--theme-code-foreground, var(--jp-content-font-color1, white)));\n",
              "    --sklearn-color-icon: #878787;\n",
              "  }\n",
              "}\n",
              "\n",
              "#sk-container-id-1 {\n",
              "  color: var(--sklearn-color-text);\n",
              "}\n",
              "\n",
              "#sk-container-id-1 pre {\n",
              "  padding: 0;\n",
              "}\n",
              "\n",
              "#sk-container-id-1 input.sk-hidden--visually {\n",
              "  border: 0;\n",
              "  clip: rect(1px 1px 1px 1px);\n",
              "  clip: rect(1px, 1px, 1px, 1px);\n",
              "  height: 1px;\n",
              "  margin: -1px;\n",
              "  overflow: hidden;\n",
              "  padding: 0;\n",
              "  position: absolute;\n",
              "  width: 1px;\n",
              "}\n",
              "\n",
              "#sk-container-id-1 div.sk-dashed-wrapped {\n",
              "  border: 1px dashed var(--sklearn-color-line);\n",
              "  margin: 0 0.4em 0.5em 0.4em;\n",
              "  box-sizing: border-box;\n",
              "  padding-bottom: 0.4em;\n",
              "  background-color: var(--sklearn-color-background);\n",
              "}\n",
              "\n",
              "#sk-container-id-1 div.sk-container {\n",
              "  /* jupyter's `normalize.less` sets `[hidden] { display: none; }`\n",
              "     but bootstrap.min.css set `[hidden] { display: none !important; }`\n",
              "     so we also need the `!important` here to be able to override the\n",
              "     default hidden behavior on the sphinx rendered scikit-learn.org.\n",
              "     See: https://github.com/scikit-learn/scikit-learn/issues/21755 */\n",
              "  display: inline-block !important;\n",
              "  position: relative;\n",
              "}\n",
              "\n",
              "#sk-container-id-1 div.sk-text-repr-fallback {\n",
              "  display: none;\n",
              "}\n",
              "\n",
              "div.sk-parallel-item,\n",
              "div.sk-serial,\n",
              "div.sk-item {\n",
              "  /* draw centered vertical line to link estimators */\n",
              "  background-image: linear-gradient(var(--sklearn-color-text-on-default-background), var(--sklearn-color-text-on-default-background));\n",
              "  background-size: 2px 100%;\n",
              "  background-repeat: no-repeat;\n",
              "  background-position: center center;\n",
              "}\n",
              "\n",
              "/* Parallel-specific style estimator block */\n",
              "\n",
              "#sk-container-id-1 div.sk-parallel-item::after {\n",
              "  content: \"\";\n",
              "  width: 100%;\n",
              "  border-bottom: 2px solid var(--sklearn-color-text-on-default-background);\n",
              "  flex-grow: 1;\n",
              "}\n",
              "\n",
              "#sk-container-id-1 div.sk-parallel {\n",
              "  display: flex;\n",
              "  align-items: stretch;\n",
              "  justify-content: center;\n",
              "  background-color: var(--sklearn-color-background);\n",
              "  position: relative;\n",
              "}\n",
              "\n",
              "#sk-container-id-1 div.sk-parallel-item {\n",
              "  display: flex;\n",
              "  flex-direction: column;\n",
              "}\n",
              "\n",
              "#sk-container-id-1 div.sk-parallel-item:first-child::after {\n",
              "  align-self: flex-end;\n",
              "  width: 50%;\n",
              "}\n",
              "\n",
              "#sk-container-id-1 div.sk-parallel-item:last-child::after {\n",
              "  align-self: flex-start;\n",
              "  width: 50%;\n",
              "}\n",
              "\n",
              "#sk-container-id-1 div.sk-parallel-item:only-child::after {\n",
              "  width: 0;\n",
              "}\n",
              "\n",
              "/* Serial-specific style estimator block */\n",
              "\n",
              "#sk-container-id-1 div.sk-serial {\n",
              "  display: flex;\n",
              "  flex-direction: column;\n",
              "  align-items: center;\n",
              "  background-color: var(--sklearn-color-background);\n",
              "  padding-right: 1em;\n",
              "  padding-left: 1em;\n",
              "}\n",
              "\n",
              "\n",
              "/* Toggleable style: style used for estimator/Pipeline/ColumnTransformer box that is\n",
              "clickable and can be expanded/collapsed.\n",
              "- Pipeline and ColumnTransformer use this feature and define the default style\n",
              "- Estimators will overwrite some part of the style using the `sk-estimator` class\n",
              "*/\n",
              "\n",
              "/* Pipeline and ColumnTransformer style (default) */\n",
              "\n",
              "#sk-container-id-1 div.sk-toggleable {\n",
              "  /* Default theme specific background. It is overwritten whether we have a\n",
              "  specific estimator or a Pipeline/ColumnTransformer */\n",
              "  background-color: var(--sklearn-color-background);\n",
              "}\n",
              "\n",
              "/* Toggleable label */\n",
              "#sk-container-id-1 label.sk-toggleable__label {\n",
              "  cursor: pointer;\n",
              "  display: flex;\n",
              "  width: 100%;\n",
              "  margin-bottom: 0;\n",
              "  padding: 0.5em;\n",
              "  box-sizing: border-box;\n",
              "  text-align: center;\n",
              "  align-items: start;\n",
              "  justify-content: space-between;\n",
              "  gap: 0.5em;\n",
              "}\n",
              "\n",
              "#sk-container-id-1 label.sk-toggleable__label .caption {\n",
              "  font-size: 0.6rem;\n",
              "  font-weight: lighter;\n",
              "  color: var(--sklearn-color-text-muted);\n",
              "}\n",
              "\n",
              "#sk-container-id-1 label.sk-toggleable__label-arrow:before {\n",
              "  /* Arrow on the left of the label */\n",
              "  content: \"▸\";\n",
              "  float: left;\n",
              "  margin-right: 0.25em;\n",
              "  color: var(--sklearn-color-icon);\n",
              "}\n",
              "\n",
              "#sk-container-id-1 label.sk-toggleable__label-arrow:hover:before {\n",
              "  color: var(--sklearn-color-text);\n",
              "}\n",
              "\n",
              "/* Toggleable content - dropdown */\n",
              "\n",
              "#sk-container-id-1 div.sk-toggleable__content {\n",
              "  max-height: 0;\n",
              "  max-width: 0;\n",
              "  overflow: hidden;\n",
              "  text-align: left;\n",
              "  /* unfitted */\n",
              "  background-color: var(--sklearn-color-unfitted-level-0);\n",
              "}\n",
              "\n",
              "#sk-container-id-1 div.sk-toggleable__content.fitted {\n",
              "  /* fitted */\n",
              "  background-color: var(--sklearn-color-fitted-level-0);\n",
              "}\n",
              "\n",
              "#sk-container-id-1 div.sk-toggleable__content pre {\n",
              "  margin: 0.2em;\n",
              "  border-radius: 0.25em;\n",
              "  color: var(--sklearn-color-text);\n",
              "  /* unfitted */\n",
              "  background-color: var(--sklearn-color-unfitted-level-0);\n",
              "}\n",
              "\n",
              "#sk-container-id-1 div.sk-toggleable__content.fitted pre {\n",
              "  /* unfitted */\n",
              "  background-color: var(--sklearn-color-fitted-level-0);\n",
              "}\n",
              "\n",
              "#sk-container-id-1 input.sk-toggleable__control:checked~div.sk-toggleable__content {\n",
              "  /* Expand drop-down */\n",
              "  max-height: 200px;\n",
              "  max-width: 100%;\n",
              "  overflow: auto;\n",
              "}\n",
              "\n",
              "#sk-container-id-1 input.sk-toggleable__control:checked~label.sk-toggleable__label-arrow:before {\n",
              "  content: \"▾\";\n",
              "}\n",
              "\n",
              "/* Pipeline/ColumnTransformer-specific style */\n",
              "\n",
              "#sk-container-id-1 div.sk-label input.sk-toggleable__control:checked~label.sk-toggleable__label {\n",
              "  color: var(--sklearn-color-text);\n",
              "  background-color: var(--sklearn-color-unfitted-level-2);\n",
              "}\n",
              "\n",
              "#sk-container-id-1 div.sk-label.fitted input.sk-toggleable__control:checked~label.sk-toggleable__label {\n",
              "  background-color: var(--sklearn-color-fitted-level-2);\n",
              "}\n",
              "\n",
              "/* Estimator-specific style */\n",
              "\n",
              "/* Colorize estimator box */\n",
              "#sk-container-id-1 div.sk-estimator input.sk-toggleable__control:checked~label.sk-toggleable__label {\n",
              "  /* unfitted */\n",
              "  background-color: var(--sklearn-color-unfitted-level-2);\n",
              "}\n",
              "\n",
              "#sk-container-id-1 div.sk-estimator.fitted input.sk-toggleable__control:checked~label.sk-toggleable__label {\n",
              "  /* fitted */\n",
              "  background-color: var(--sklearn-color-fitted-level-2);\n",
              "}\n",
              "\n",
              "#sk-container-id-1 div.sk-label label.sk-toggleable__label,\n",
              "#sk-container-id-1 div.sk-label label {\n",
              "  /* The background is the default theme color */\n",
              "  color: var(--sklearn-color-text-on-default-background);\n",
              "}\n",
              "\n",
              "/* On hover, darken the color of the background */\n",
              "#sk-container-id-1 div.sk-label:hover label.sk-toggleable__label {\n",
              "  color: var(--sklearn-color-text);\n",
              "  background-color: var(--sklearn-color-unfitted-level-2);\n",
              "}\n",
              "\n",
              "/* Label box, darken color on hover, fitted */\n",
              "#sk-container-id-1 div.sk-label.fitted:hover label.sk-toggleable__label.fitted {\n",
              "  color: var(--sklearn-color-text);\n",
              "  background-color: var(--sklearn-color-fitted-level-2);\n",
              "}\n",
              "\n",
              "/* Estimator label */\n",
              "\n",
              "#sk-container-id-1 div.sk-label label {\n",
              "  font-family: monospace;\n",
              "  font-weight: bold;\n",
              "  display: inline-block;\n",
              "  line-height: 1.2em;\n",
              "}\n",
              "\n",
              "#sk-container-id-1 div.sk-label-container {\n",
              "  text-align: center;\n",
              "}\n",
              "\n",
              "/* Estimator-specific */\n",
              "#sk-container-id-1 div.sk-estimator {\n",
              "  font-family: monospace;\n",
              "  border: 1px dotted var(--sklearn-color-border-box);\n",
              "  border-radius: 0.25em;\n",
              "  box-sizing: border-box;\n",
              "  margin-bottom: 0.5em;\n",
              "  /* unfitted */\n",
              "  background-color: var(--sklearn-color-unfitted-level-0);\n",
              "}\n",
              "\n",
              "#sk-container-id-1 div.sk-estimator.fitted {\n",
              "  /* fitted */\n",
              "  background-color: var(--sklearn-color-fitted-level-0);\n",
              "}\n",
              "\n",
              "/* on hover */\n",
              "#sk-container-id-1 div.sk-estimator:hover {\n",
              "  /* unfitted */\n",
              "  background-color: var(--sklearn-color-unfitted-level-2);\n",
              "}\n",
              "\n",
              "#sk-container-id-1 div.sk-estimator.fitted:hover {\n",
              "  /* fitted */\n",
              "  background-color: var(--sklearn-color-fitted-level-2);\n",
              "}\n",
              "\n",
              "/* Specification for estimator info (e.g. \"i\" and \"?\") */\n",
              "\n",
              "/* Common style for \"i\" and \"?\" */\n",
              "\n",
              ".sk-estimator-doc-link,\n",
              "a:link.sk-estimator-doc-link,\n",
              "a:visited.sk-estimator-doc-link {\n",
              "  float: right;\n",
              "  font-size: smaller;\n",
              "  line-height: 1em;\n",
              "  font-family: monospace;\n",
              "  background-color: var(--sklearn-color-background);\n",
              "  border-radius: 1em;\n",
              "  height: 1em;\n",
              "  width: 1em;\n",
              "  text-decoration: none !important;\n",
              "  margin-left: 0.5em;\n",
              "  text-align: center;\n",
              "  /* unfitted */\n",
              "  border: var(--sklearn-color-unfitted-level-1) 1pt solid;\n",
              "  color: var(--sklearn-color-unfitted-level-1);\n",
              "}\n",
              "\n",
              ".sk-estimator-doc-link.fitted,\n",
              "a:link.sk-estimator-doc-link.fitted,\n",
              "a:visited.sk-estimator-doc-link.fitted {\n",
              "  /* fitted */\n",
              "  border: var(--sklearn-color-fitted-level-1) 1pt solid;\n",
              "  color: var(--sklearn-color-fitted-level-1);\n",
              "}\n",
              "\n",
              "/* On hover */\n",
              "div.sk-estimator:hover .sk-estimator-doc-link:hover,\n",
              ".sk-estimator-doc-link:hover,\n",
              "div.sk-label-container:hover .sk-estimator-doc-link:hover,\n",
              ".sk-estimator-doc-link:hover {\n",
              "  /* unfitted */\n",
              "  background-color: var(--sklearn-color-unfitted-level-3);\n",
              "  color: var(--sklearn-color-background);\n",
              "  text-decoration: none;\n",
              "}\n",
              "\n",
              "div.sk-estimator.fitted:hover .sk-estimator-doc-link.fitted:hover,\n",
              ".sk-estimator-doc-link.fitted:hover,\n",
              "div.sk-label-container:hover .sk-estimator-doc-link.fitted:hover,\n",
              ".sk-estimator-doc-link.fitted:hover {\n",
              "  /* fitted */\n",
              "  background-color: var(--sklearn-color-fitted-level-3);\n",
              "  color: var(--sklearn-color-background);\n",
              "  text-decoration: none;\n",
              "}\n",
              "\n",
              "/* Span, style for the box shown on hovering the info icon */\n",
              ".sk-estimator-doc-link span {\n",
              "  display: none;\n",
              "  z-index: 9999;\n",
              "  position: relative;\n",
              "  font-weight: normal;\n",
              "  right: .2ex;\n",
              "  padding: .5ex;\n",
              "  margin: .5ex;\n",
              "  width: min-content;\n",
              "  min-width: 20ex;\n",
              "  max-width: 50ex;\n",
              "  color: var(--sklearn-color-text);\n",
              "  box-shadow: 2pt 2pt 4pt #999;\n",
              "  /* unfitted */\n",
              "  background: var(--sklearn-color-unfitted-level-0);\n",
              "  border: .5pt solid var(--sklearn-color-unfitted-level-3);\n",
              "}\n",
              "\n",
              ".sk-estimator-doc-link.fitted span {\n",
              "  /* fitted */\n",
              "  background: var(--sklearn-color-fitted-level-0);\n",
              "  border: var(--sklearn-color-fitted-level-3);\n",
              "}\n",
              "\n",
              ".sk-estimator-doc-link:hover span {\n",
              "  display: block;\n",
              "}\n",
              "\n",
              "/* \"?\"-specific style due to the `<a>` HTML tag */\n",
              "\n",
              "#sk-container-id-1 a.estimator_doc_link {\n",
              "  float: right;\n",
              "  font-size: 1rem;\n",
              "  line-height: 1em;\n",
              "  font-family: monospace;\n",
              "  background-color: var(--sklearn-color-background);\n",
              "  border-radius: 1rem;\n",
              "  height: 1rem;\n",
              "  width: 1rem;\n",
              "  text-decoration: none;\n",
              "  /* unfitted */\n",
              "  color: var(--sklearn-color-unfitted-level-1);\n",
              "  border: var(--sklearn-color-unfitted-level-1) 1pt solid;\n",
              "}\n",
              "\n",
              "#sk-container-id-1 a.estimator_doc_link.fitted {\n",
              "  /* fitted */\n",
              "  border: var(--sklearn-color-fitted-level-1) 1pt solid;\n",
              "  color: var(--sklearn-color-fitted-level-1);\n",
              "}\n",
              "\n",
              "/* On hover */\n",
              "#sk-container-id-1 a.estimator_doc_link:hover {\n",
              "  /* unfitted */\n",
              "  background-color: var(--sklearn-color-unfitted-level-3);\n",
              "  color: var(--sklearn-color-background);\n",
              "  text-decoration: none;\n",
              "}\n",
              "\n",
              "#sk-container-id-1 a.estimator_doc_link.fitted:hover {\n",
              "  /* fitted */\n",
              "  background-color: var(--sklearn-color-fitted-level-3);\n",
              "}\n",
              "</style><div id=\"sk-container-id-1\" class=\"sk-top-container\"><div class=\"sk-text-repr-fallback\"><pre>NearestNeighbors(algorithm=&#x27;brute&#x27;, metric=&#x27;cosine&#x27;, n_jobs=-1, n_neighbors=10)</pre><b>In a Jupyter environment, please rerun this cell to show the HTML representation or trust the notebook. <br />On GitHub, the HTML representation is unable to render, please try loading this page with nbviewer.org.</b></div><div class=\"sk-container\" hidden><div class=\"sk-item\"><div class=\"sk-estimator fitted sk-toggleable\"><input class=\"sk-toggleable__control sk-hidden--visually\" id=\"sk-estimator-id-1\" type=\"checkbox\" checked><label for=\"sk-estimator-id-1\" class=\"sk-toggleable__label fitted sk-toggleable__label-arrow\"><div><div>NearestNeighbors</div></div><div><a class=\"sk-estimator-doc-link fitted\" rel=\"noreferrer\" target=\"_blank\" href=\"https://scikit-learn.org/1.6/modules/generated/sklearn.neighbors.NearestNeighbors.html\">?<span>Documentation for NearestNeighbors</span></a><span class=\"sk-estimator-doc-link fitted\">i<span>Fitted</span></span></div></label><div class=\"sk-toggleable__content fitted\"><pre>NearestNeighbors(algorithm=&#x27;brute&#x27;, metric=&#x27;cosine&#x27;, n_jobs=-1, n_neighbors=10)</pre></div> </div></div></div></div>"
            ]
          },
          "metadata": {},
          "execution_count": 109
        }
      ]
    },
    {
      "cell_type": "code",
      "source": [
        "def recommend_products(customer_name, num_recommendations=5):\n",
        "  distances, indices = model_knn.kneighbors(customer_matrix.iloc[customer_name-1, :].values.reshape(1, -1), n_neighbors=10)\n",
        "  similar_customers = indices.flatten()\n",
        "  recommended_products = {}\n",
        "  for similar_customer in similar_customers:\n",
        "    for product in customer_matrix.columns:\n",
        "      if customer_matrix.iloc[customer_name-1][product] == 0:\n",
        "        recommended_products[product] = recommended_products.get(product, 0) + customer_matrix.iloc[similar_customer][product]\n",
        "  sorted_recommendations = sorted(recommended_products.items(), key = lambda x: x[1], reverse=True)[:num_recommendations]\n",
        "  print(f\"Top {num_recommendations} product recommendations for Customer {customer_name}:\")\n",
        "  for product, score in sorted_recommendations:\n",
        "      print(f\"Product: {product}, Recommendation Score: {score}\")"
      ],
      "metadata": {
        "id": "eJnUnGvibOr7"
      },
      "execution_count": null,
      "outputs": []
    },
    {
      "cell_type": "code",
      "source": [
        "recommend_products(customer_name=10, num_recommendations=3)"
      ],
      "metadata": {
        "colab": {
          "base_uri": "https://localhost:8080/"
        },
        "id": "zQmxyycngFEW",
        "outputId": "e16dc017-f42d-43bb-df2d-d788729af10a"
      },
      "execution_count": null,
      "outputs": [
        {
          "output_type": "stream",
          "name": "stdout",
          "text": [
            "Top 3 product recommendations for Customer 10:\n",
            "Product: Accessories, Recommendation Score: 3.0\n",
            "Product: Saree, Recommendation Score: 3.0\n",
            "Product: Hankerchief, Recommendation Score: 2.0\n"
          ]
        }
      ]
    },
    {
      "cell_type": "code",
      "source": [
        "#Elbow's method to determine the number of clusters"
      ],
      "metadata": {
        "id": "qdovZMAhgPbK"
      },
      "execution_count": null,
      "outputs": []
    },
    {
      "cell_type": "code",
      "source": [
        "from sklearn.cluster import KMeans\n",
        "from sklearn.decomposition import PCA\n",
        "import plotly as py\n",
        "import plotly.graph_objs as go\n",
        "import warnings\n",
        "warnings.filterwarnings('ignore')"
      ],
      "metadata": {
        "id": "6BQRyAdgm0sZ"
      },
      "execution_count": null,
      "outputs": []
    },
    {
      "cell_type": "code",
      "source": [
        "inertia = []\n",
        "\n",
        "for n in range(1, 16):\n",
        "  kmeans = KMeans(n_clusters=n, init='k-means++', max_iter=300, random_state=42)\n",
        "  kmeans.fit(customer_matrix)\n",
        "  inertia.append(kmeans.inertia_)\n",
        "\n",
        "#visualisation\n",
        "plt.figure(figsize=(10,6))\n",
        "plt.plot(range(1,16),inertia, alpha = 0.7, marker='*')\n",
        "plt.title('Elbow Method for Optimal Number of Clusters')\n",
        "plt.xlabel('Number of Custers')\n",
        "plt.ylabel('Inetria')\n",
        "plt.xticks(range(1,16))\n",
        "plt.grid()\n",
        "plt.show()"
      ],
      "metadata": {
        "colab": {
          "base_uri": "https://localhost:8080/",
          "height": 564
        },
        "collapsed": true,
        "id": "PNRBwV_2pJRp",
        "outputId": "633d6e5e-44b9-4ed1-afad-b6328d2b4186"
      },
      "execution_count": null,
      "outputs": [
        {
          "output_type": "display_data",
          "data": {
            "text/plain": [
              "<Figure size 1000x600 with 1 Axes>"
            ],
            "image/png": "[encoded data removed]"
          },
          "metadata": {}
        }
      ]
    },
    {
      "cell_type": "code",
      "source": [
        "#Customer clustering"
      ],
      "metadata": {
        "id": "N8bUrnM8m3ow"
      },
      "execution_count": null,
      "outputs": []
    },
    {
      "cell_type": "code",
      "source": [
        "optimal_clusters = 4\n",
        "kmeans = KMeans(n_clusters=optimal_clusters, init='k-means++', max_iter=300, random_state=42)\n",
        "customer_clusters = kmeans.fit_predict(customer_matrix)\n",
        "\n",
        "customer_matrix['Cluster'] = customer_clusters\n",
        "print(customer_matrix.head())"
      ],
      "metadata": {
        "colab": {
          "base_uri": "https://localhost:8080/"
        },
        "collapsed": true,
        "id": "j93jLZPnvlmx",
        "outputId": "0bfe49e1-34dd-4655-977f-2f09620fef74"
      },
      "execution_count": null,
      "outputs": [
        {
          "output_type": "stream",
          "name": "stdout",
          "text": [
            "Sub-Category  Accessories  Bookcases  Chairs  Electronic Games  Furnishings  \\\n",
            "CustomerName                                                                  \n",
            "Aakanksha             0.0        0.0     1.0               0.0          0.0   \n",
            "Aarushi               3.0        5.0     3.0               0.0          3.0   \n",
            "Aashna                6.0        0.0     0.0               0.0          0.0   \n",
            "Aastha                2.0        0.0     0.0               0.0          0.0   \n",
            "Aayush                0.0        0.0     0.0               3.0          0.0   \n",
            "\n",
            "Sub-Category  Hankerchief  Kurti  Leggings  Phones  Printers  Saree  Shirt  \\\n",
            "CustomerName                                                                 \n",
            "Aakanksha             0.0    0.0       0.0     0.0       0.0    7.0    0.0   \n",
            "Aarushi              12.0    0.0       0.0     0.0       6.0    8.0    0.0   \n",
            "Aashna                0.0    3.0       0.0     0.0       3.0    3.0    7.0   \n",
            "Aastha                6.0    0.0       0.0    10.0       0.0    2.0    0.0   \n",
            "Aayush               10.0    0.0       0.0     0.0       0.0    3.0    0.0   \n",
            "\n",
            "Sub-Category  Skirt  Stole  T-shirt  Tables  Trousers  Cluster  \n",
            "CustomerName                                                    \n",
            "Aakanksha       0.0    0.0      0.0     0.0       0.0        3  \n",
            "Aarushi         0.0    4.0      0.0     5.0       0.0        0  \n",
            "Aashna          0.0   10.0      0.0     0.0       0.0        2  \n",
            "Aastha          8.0    0.0      0.0     0.0       0.0        0  \n",
            "Aayush          0.0    2.0      0.0     0.0       0.0        0  \n"
          ]
        }
      ]
    },
    {
      "cell_type": "code",
      "source": [
        "pca = PCA(n_components=2)\n",
        "reduced_data = pca.fit_transform(customer_matrix.drop('Cluster', axis=1))\n",
        "reduced_data_with_clusters = np.column_stack((reduced_data, customer_clusters))"
      ],
      "metadata": {
        "id": "DinICdxswMq1"
      },
      "execution_count": null,
      "outputs": []
    },
    {
      "cell_type": "code",
      "source": [
        "customer_clusters = kmeans.fit_predict(customer_matrix)\n",
        "customer_matrix['Cluster'] = customer_clusters\n",
        "cluster_number = 0\n",
        "for cluster_number in range(optimal_clusters):\n",
        "  cluster_data = customer_matrix[customer_matrix['Cluster'] == cluster_number]\n",
        "  print(f'Cluster{cluster_number}:')\n",
        "  print(cluster_data.head())"
      ],
      "metadata": {
        "colab": {
          "base_uri": "https://localhost:8080/"
        },
        "collapsed": true,
        "id": "rWZAVvcT24ma",
        "outputId": "f92c789b-4e0e-4620-d3ee-1ab9d45eae3c"
      },
      "execution_count": null,
      "outputs": [
        {
          "output_type": "stream",
          "name": "stdout",
          "text": [
            "Cluster0:\n",
            "Sub-Category  Accessories  Bookcases  Chairs  Electronic Games  Furnishings  \\\n",
            "CustomerName                                                                  \n",
            "Aarushi               3.0        5.0     3.0               0.0          3.0   \n",
            "Aastha                2.0        0.0     0.0               0.0          0.0   \n",
            "Aayush                0.0        0.0     0.0               3.0          0.0   \n",
            "Amit                  0.0        0.0     0.0               0.0          0.0   \n",
            "Amlan                 8.0        0.0     0.0               0.0          2.0   \n",
            "\n",
            "Sub-Category  Hankerchief  Kurti  Leggings  Phones  Printers  Saree  Shirt  \\\n",
            "CustomerName                                                                 \n",
            "Aarushi              12.0    0.0       0.0     0.0       6.0    8.0    0.0   \n",
            "Aastha                6.0    0.0       0.0    10.0       0.0    2.0    0.0   \n",
            "Aayush               10.0    0.0       0.0     0.0       0.0    3.0    0.0   \n",
            "Amit                 11.0    0.0       0.0     4.0       0.0    4.0    0.0   \n",
            "Amlan                 9.0    0.0       3.0     2.0       0.0    0.0    2.0   \n",
            "\n",
            "Sub-Category  Skirt  Stole  T-shirt  Tables  Trousers  Cluster  \n",
            "CustomerName                                                    \n",
            "Aarushi         0.0    4.0      0.0     5.0       0.0        0  \n",
            "Aastha          8.0    0.0      0.0     0.0       0.0        0  \n",
            "Aayush          0.0    2.0      0.0     0.0       0.0        0  \n",
            "Amit            3.0   11.0      0.0     0.0       2.0        0  \n",
            "Amlan           0.0    0.0      0.0     0.0       0.0        0  \n",
            "Cluster1:\n",
            "Sub-Category  Accessories  Bookcases  Chairs  Electronic Games  Furnishings  \\\n",
            "CustomerName                                                                  \n",
            "Aditi                 4.0        0.0     0.0               0.0          0.0   \n",
            "Ajay                  6.0        0.0     0.0               0.0          0.0   \n",
            "Aman                  0.0        0.0     0.0               0.0          2.0   \n",
            "Anand                 8.0        4.0     0.0               0.0          2.0   \n",
            "Ankita                0.0        0.0     0.0               0.0          0.0   \n",
            "\n",
            "Sub-Category  Hankerchief  Kurti  Leggings  Phones  Printers  Saree  Shirt  \\\n",
            "CustomerName                                                                 \n",
            "Aditi                 0.0   10.0       0.0     0.0       4.0    0.0    3.0   \n",
            "Ajay                  1.0   10.0       0.0     0.0       0.0    3.0   12.0   \n",
            "Aman                  6.0    8.0       0.0     0.0       0.0    6.0    0.0   \n",
            "Anand                 0.0    0.0       1.0     2.0       0.0    0.0    0.0   \n",
            "Ankita                4.0    0.0       5.0     0.0       0.0    2.0    0.0   \n",
            "\n",
            "Sub-Category  Skirt  Stole  T-shirt  Tables  Trousers  Cluster  \n",
            "CustomerName                                                    \n",
            "Aditi           0.0    0.0      7.0     0.0       0.0        1  \n",
            "Ajay            0.0    6.0      4.0     0.0       0.0        1  \n",
            "Aman            5.0    3.0      8.0     0.0       2.0        1  \n",
            "Anand           0.0    0.0      5.0     0.0       0.0        1  \n",
            "Ankita          0.0    0.0      6.0     0.0       0.0        1  \n",
            "Cluster2:\n",
            "Sub-Category  Accessories  Bookcases  Chairs  Electronic Games  Furnishings  \\\n",
            "CustomerName                                                                  \n",
            "Aakanksha             0.0        0.0     1.0               0.0          0.0   \n",
            "Aashna                6.0        0.0     0.0               0.0          0.0   \n",
            "Abhijeet              0.0        1.0     0.0               2.0          5.0   \n",
            "Abhishek              2.0        5.0     0.0               2.0          0.0   \n",
            "Aditya                6.0        0.0     0.0               0.0          0.0   \n",
            "\n",
            "Sub-Category  Hankerchief  Kurti  Leggings  Phones  Printers  Saree  Shirt  \\\n",
            "CustomerName                                                                 \n",
            "Aakanksha             0.0    0.0       0.0     0.0       0.0    7.0    0.0   \n",
            "Aashna                0.0    3.0       0.0     0.0       3.0    3.0    7.0   \n",
            "Abhijeet              7.0    0.0       0.0     0.0       9.0   16.0    0.0   \n",
            "Abhishek              6.0    8.0       8.0    11.0       0.0    8.0    4.0   \n",
            "Aditya                7.0    0.0       0.0     1.0       0.0    8.0    0.0   \n",
            "\n",
            "Sub-Category  Skirt  Stole  T-shirt  Tables  Trousers  Cluster  \n",
            "CustomerName                                                    \n",
            "Aakanksha       0.0    0.0      0.0     0.0       0.0        2  \n",
            "Aashna          0.0   10.0      0.0     0.0       0.0        2  \n",
            "Abhijeet        2.0    3.0      0.0     0.0       0.0        2  \n",
            "Abhishek        3.0   12.0     10.0     8.0       2.0        2  \n",
            "Aditya          0.0    0.0      1.0     0.0       0.0        2  \n",
            "Cluster3:\n",
            "Sub-Category  Accessories  Bookcases  Chairs  Electronic Games  Furnishings  \\\n",
            "CustomerName                                                                  \n",
            "Aayushi               0.0        0.0     7.0               0.0          0.0   \n",
            "Abhijit               0.0        0.0     0.0               0.0          0.0   \n",
            "Adhvaita              0.0        0.0     0.0               0.0          0.0   \n",
            "Aishwarya             0.0        0.0     2.0               0.0          0.0   \n",
            "Akancha               0.0        0.0     0.0               0.0          0.0   \n",
            "\n",
            "Sub-Category  Hankerchief  Kurti  Leggings  Phones  Printers  Saree  Shirt  \\\n",
            "CustomerName                                                                 \n",
            "Aayushi               0.0    0.0       0.0     0.0       0.0    3.0    0.0   \n",
            "Abhijit               0.0    0.0       0.0     0.0       0.0    0.0    0.0   \n",
            "Adhvaita              0.0    0.0       0.0     3.0       0.0    0.0    0.0   \n",
            "Aishwarya             0.0    0.0       2.0     0.0       0.0    1.0    0.0   \n",
            "Akancha               0.0    0.0       0.0     0.0       0.0    4.0    0.0   \n",
            "\n",
            "Sub-Category  Skirt  Stole  T-shirt  Tables  Trousers  Cluster  \n",
            "CustomerName                                                    \n",
            "Aayushi         0.0    4.0      4.0     0.0       0.0        3  \n",
            "Abhijit         0.0    3.0      0.0     0.0       0.0        3  \n",
            "Adhvaita        0.0    0.0      0.0     0.0       0.0        3  \n",
            "Aishwarya       4.0    0.0      0.0     0.0       0.0        3  \n",
            "Akancha         0.0    6.0      0.0     0.0       0.0        3  \n"
          ]
        }
      ]
    },
    {
      "cell_type": "code",
      "source": [
        "#visualisation\n",
        "\n",
        "def visualize_clusters(reduced_data_with_clusters, optimal_clusters, title=\"Customer Clustering with PCA and K-Means\"):\n",
        "    \"\"\"\n",
        "    Function to visualize customer clusters based on PCA-reduced data.\n",
        "\n",
        "    Parameters:\n",
        "    - reduced_data_with_clusters: ndarray containing reduced PCA data and cluster assignments\n",
        "    - optimal_clusters: int, number of clusters to visualize\n",
        "    - title: str, title of the visualization (default is 'Customer Clustering with PCA and K-Means')\n",
        "    \"\"\"\n",
        "    plt.figure(figsize=(10, 6))\n",
        "    for cluster in range(optimal_clusters):\n",
        "        cluster_points = reduced_data_with_clusters[reduced_data_with_clusters[:, 2] == cluster]\n",
        "        plt.scatter(\n",
        "            cluster_points[:, 0],\n",
        "            cluster_points[:, 1],\n",
        "            label=f'Cluster {cluster} (Customers: {len(cluster_points)})',\n",
        "            alpha=0.6\n",
        "        )\n",
        "\n",
        "    plt.title(title, fontsize=14)\n",
        "    plt.xlabel('PCA Component 1', fontsize=12)\n",
        "    plt.ylabel('PCA Component 2', fontsize=12)\n",
        "    plt.legend(title='Customer clusters', fontsize=10)\n",
        "    plt.grid(True)\n",
        "    plt.show()\n"
      ],
      "metadata": {
        "collapsed": true,
        "id": "O5QSEh5jwgzt"
      },
      "execution_count": null,
      "outputs": []
    },
    {
      "cell_type": "code",
      "source": [
        "#System testing\n",
        "from sklearn.preprocessing import StandardScaler\n",
        "from sklearn.metrics import silhouette_score, pairwise_distances"
      ],
      "metadata": {
        "id": "mU9QLl6wxNEr"
      },
      "execution_count": null,
      "outputs": []
    },
    {
      "cell_type": "code",
      "source": [
        "# Step 1: Validate the clustering with Silhouette Score\n",
        "silhouette_avg = silhouette_score(data_scaled, customer_matrix['Cluster'])\n",
        "print(f\"Silhouette Score for Clustering: {silhouette_avg:.2f}\")"
      ],
      "metadata": {
        "colab": {
          "base_uri": "https://localhost:8080/"
        },
        "id": "pwF2iOxx7yki",
        "outputId": "0f169f6e-97eb-4007-f5ad-f441ea2770d5"
      },
      "execution_count": null,
      "outputs": [
        {
          "output_type": "stream",
          "name": "stdout",
          "text": [
            "Silhouette Score for Clustering: 0.19\n"
          ]
        }
      ]
    },
    {
      "cell_type": "code",
      "source": [
        "# Step 2: Test recommendation quality\n",
        "def test_recommendation_system(test_customers):\n",
        "    \"\"\"\n",
        "    Test the recommendation system for a list of test customers.\n",
        "    \"\"\"\n",
        "    for customer in test_customers:\n",
        "        print(f\"\\nTesting Recommendations for Customer: {customer}\")\n",
        "        recommend_products(customer_name=customer, num_recommendations=3)"
      ],
      "metadata": {
        "id": "RclJUd3a8NJ8"
      },
      "execution_count": null,
      "outputs": []
    },
    {
      "cell_type": "code",
      "source": [
        "# Step 3: Analyze each cluster\n",
        "def analyze_cluster_data():\n",
        "    for cluster_number in range(optimal_clusters):\n",
        "        cluster_data = customer_matrix[customer_matrix['Cluster'] == cluster_number]\n",
        "        print(f\"\\nCluster {cluster_number} Analysis:\")\n",
        "        print(f\"Number of Customers: {len(cluster_data)}\")\n",
        "        print(\"Cluster Averages:\\n\", cluster_data.mean())\n",
        "        print(\"-\" * 40)\n",
        "\n",
        "analyze_cluster_data()"
      ],
      "metadata": {
        "colab": {
          "base_uri": "https://localhost:8080/"
        },
        "collapsed": true,
        "id": "LDuglo0N-bv4",
        "outputId": "1a439005-1653-4ae3-e34c-dc648bee36d2"
      },
      "execution_count": null,
      "outputs": [
        {
          "output_type": "stream",
          "name": "stdout",
          "text": [
            "\n",
            "Cluster 0 Analysis:\n",
            "Number of Customers: 50\n",
            "Cluster Averages:\n",
            " Sub-Category\n",
            "Accessories         1.26\n",
            "Bookcases           1.22\n",
            "Chairs              0.80\n",
            "Electronic Games    1.10\n",
            "Furnishings         1.16\n",
            "Hankerchief         9.40\n",
            "Kurti               1.06\n",
            "Leggings            1.00\n",
            "Phones              1.20\n",
            "Printers            1.88\n",
            "Saree               2.06\n",
            "Shirt               1.08\n",
            "Skirt               0.98\n",
            "Stole               4.10\n",
            "T-shirt             0.56\n",
            "Tables              0.18\n",
            "Trousers            0.52\n",
            "Cluster             0.00\n",
            "dtype: float64\n",
            "----------------------------------------\n",
            "\n",
            "Cluster 1 Analysis:\n",
            "Number of Customers: 25\n",
            "Cluster Averages:\n",
            " Sub-Category\n",
            "Accessories         1.64\n",
            "Bookcases           2.20\n",
            "Chairs              1.04\n",
            "Electronic Games    0.96\n",
            "Furnishings         1.80\n",
            "Hankerchief         1.60\n",
            "Kurti               1.68\n",
            "Leggings            0.60\n",
            "Phones              1.08\n",
            "Printers            1.12\n",
            "Saree               1.48\n",
            "Shirt               1.24\n",
            "Skirt               0.60\n",
            "Stole               1.56\n",
            "T-shirt             7.20\n",
            "Tables              0.08\n",
            "Trousers            0.44\n",
            "Cluster             1.00\n",
            "dtype: float64\n",
            "----------------------------------------\n",
            "\n",
            "Cluster 2 Analysis:\n",
            "Number of Customers: 54\n",
            "Cluster Averages:\n",
            " Sub-Category\n",
            "Accessories         1.833333\n",
            "Bookcases           1.814815\n",
            "Chairs              1.814815\n",
            "Electronic Games    1.648148\n",
            "Furnishings         0.777778\n",
            "Hankerchief         1.981481\n",
            "Kurti               0.722222\n",
            "Leggings            0.629630\n",
            "Phones              1.592593\n",
            "Printers            1.537037\n",
            "Saree               9.611111\n",
            "Shirt               1.370370\n",
            "Skirt               1.555556\n",
            "Stole               3.351852\n",
            "T-shirt             1.129630\n",
            "Tables              0.407407\n",
            "Trousers            0.722222\n",
            "Cluster             2.000000\n",
            "dtype: float64\n",
            "----------------------------------------\n",
            "\n",
            "Cluster 3 Analysis:\n",
            "Number of Customers: 203\n",
            "Cluster Averages:\n",
            " Sub-Category\n",
            "Accessories         0.290640\n",
            "Bookcases           0.408867\n",
            "Chairs              0.556650\n",
            "Electronic Games    0.635468\n",
            "Furnishings         0.812808\n",
            "Hankerchief         0.674877\n",
            "Kurti               0.147783\n",
            "Leggings            0.428571\n",
            "Phones              0.645320\n",
            "Printers            0.423645\n",
            "Saree               0.605911\n",
            "Shirt               0.551724\n",
            "Skirt               0.492611\n",
            "Stole               1.211823\n",
            "T-shirt             0.177340\n",
            "Tables              0.137931\n",
            "Trousers            0.290640\n",
            "Cluster             3.000000\n",
            "dtype: float64\n",
            "----------------------------------------\n"
          ]
        }
      ]
    },
    {
      "cell_type": "code",
      "source": [
        "visualize_clusters(reduced_data_with_clusters, optimal_clusters, title=\"Customer Clustering with PCA and K-Means\")"
      ],
      "metadata": {
        "colab": {
          "base_uri": "https://localhost:8080/",
          "height": 569
        },
        "collapsed": true,
        "id": "r1oTnOh2-qWv",
        "outputId": "41fac70d-1956-41e0-e02f-07eea826e289"
      },
      "execution_count": null,
      "outputs": [
        {
          "output_type": "display_data",
          "data": {
            "text/plain": [
              "<Figure size 1000x600 with 1 Axes>"
            ],
            "image/png": "[encoded data removed]"
          },
          "metadata": {}
        }
      ]
    },
    {
      "cell_type": "code",
      "source": [
        "# Import of the required libraries\n",
        "from flask import Flask, request, jsonify\n",
        "from pyngrok import ngrok\n",
        "\n",
        "# Initialization Flask\n",
        "app = Flask(__name__)\n",
        "\n",
        "@app.route('/recommend', methods=['GET'])\n",
        "def recommend():\n",
        "    customer_name = request.args.get('customer_name')\n",
        "    num_recommendations = int(request.args.get('num_recommendations', 5))\n",
        "\n",
        "    if not customer_name:\n",
        "        return jsonify({\"error\": \"Customer name is required\"}), 400\n",
        "\n",
        "    if customer_name not in customer_matrix.index:\n",
        "        return jsonify({\"error\": \"Customer not found\"}), 404\n",
        "\n",
        "    recommendations = recommend_products(customer_name, num_recommendations)\n",
        "    return jsonify({\n",
        "        \"customer_name\": customer_name,\n",
        "        \"recommendations\": recommendations\n",
        "    })\n",
        "\n",
        "ngrok.set_auth_token(\"your-token\")\n",
        "public_url = ngrok.connect(5000)\n",
        "print(f\"API running on {public_url}\")\n",
        "\n",
        "if __name__ == \"__main__\":\n",
        "    app.run(port=5000)\n"
      ],
      "metadata": {
        "colab": {
          "base_uri": "https://localhost:8080/"
        },
        "collapsed": true,
        "id": "1b__MgFJ_M_4",
        "outputId": "666d32e7-528a-4715-db70-f928ea0f2f3f"
      },
      "execution_count": null,
      "outputs": [
        {
          "output_type": "stream",
          "name": "stdout",
          "text": [
            "API running on NgrokTunnel: \"https://86ee-34-21-4-217.ngrok-free.app\" -> \"http://localhost:5000\"\n",
            " * Serving Flask app '__main__'\n",
            " * Debug mode: off\n"
          ]
        },
        {
          "output_type": "stream",
          "name": "stderr",
          "text": [
            "INFO:werkzeug:\u001b[31m\u001b[1mWARNING: This is a development server. Do not use it in a production deployment. Use a production WSGI server instead.\u001b[0m\n",
            " * Running on http://127.0.0.1:5000\n",
            "INFO:werkzeug:\u001b[33mPress CTRL+C to quit\u001b[0m\n",
            "INFO:werkzeug:127.0.0.1 - - [05/Feb/2025 17:42:06] \"GET /recommend?customer_name=Bharat&num_recommendations=5 HTTP/1.1\" 200 -\n"
          ]
        }
      ]
    },
    {
      "cell_type": "code",
      "source": [],
      "metadata": {
        "id": "IPMwuWD7Bizk"
      },
      "execution_count": null,
      "outputs": []
    }
  ]
}